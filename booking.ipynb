{
 "cells": [
  {
   "cell_type": "code",
   "execution_count": 1,
   "metadata": {
    "collapsed": true,
    "deletable": true,
    "editable": true
   },
   "outputs": [],
   "source": [
    "from selenium import webdriver\n",
    "from bs4 import BeautifulSoup\n",
    "import pandas as pd\n",
    "import smtplib\n",
    "from email.mime.text import MIMEText as text"
   ]
  },
  {
   "cell_type": "code",
   "execution_count": 2,
   "metadata": {
    "collapsed": true
   },
   "outputs": [],
   "source": [
    "def sendEmail(current_url):\n",
    "    smtpObj = smtplib.SMTP('smtp.gmail.com', 587)\n",
    "    smtpObj.starttls()\n",
    "    smtpObj.login('jeremy455576@gmail.com', 'abcd6799') #第一個參數是電郵帳號，第二個參數是密碼\n",
    "\n",
    "    m = text(\"NTU Hospital eye department can be booked now\\n\" + current_url)\n",
    "    m['Subject'] = 'NTU Hospital Booking Infrom!'\n",
    "    m['From'] = \"jeremy455576@gmail.com\"\n",
    "    m['To'] = \"jeremy4555@yahoo.com.tw\"\n",
    "\n",
    "    smtpObj.sendmail(m['From'], m['To'], m.as_string())"
   ]
  },
  {
   "cell_type": "code",
   "execution_count": 3,
   "metadata": {
    "collapsed": false,
    "deletable": true,
    "editable": true
   },
   "outputs": [],
   "source": [
    "# url = \"https://reg.ntuh.gov.tw/webadministration/DoctorServiceQueryByDrName.aspx?HospCode=T0&QueryName=林昭文\"\n",
    "url = 'https://reg.ntuh.gov.tw/webadministration/DoctorServiceQueryByDrName.aspx?HospCode=T0&QueryName=陳'\n",
    "\n",
    "driver = webdriver.Chrome()\n",
    "driver.get(url)\n",
    "html = driver.page_source\n",
    "soup = BeautifulSoup(html, 'lxml')\n",
    "table = soup.find_all('table')[2]\n",
    "df = pd.read_html(str(table))[0]\n",
    "df.columns = df.loc[0]\n",
    "df.drop(0, inplace=True)\n",
    "df_notFull = df.loc[df['科別']=='眼科部'].loc[df['門診名稱']=='普通門診'].loc[df['掛號']=='.掛號.']\n",
    "isFull = len(df_notFull)\n",
    "if isFull != 0:\n",
    "    indices = [idx+1 for idx in df_notFull.index]\n",
    "    elem_id = \"DoctorServiceListInSeveralDaysInput_GridViewDoctorServiceList__ctl\" + str(indices[0]) + \"_AdminTextShow\"\n",
    "    elem = driver.find_element_by_id(elem_id)\n",
    "    driver.execute_script(\"arguments[0].click();\", elem)\n",
    "    current_url = driver.current_url\n",
    "    sendEmail(current_url)\n",
    "    \n",
    "driver.close()"
   ]
  },
  {
   "cell_type": "markdown",
   "metadata": {},
   "source": [
    "# Image Recognition"
   ]
  },
  {
   "cell_type": "code",
   "execution_count": null,
   "metadata": {
    "collapsed": true
   },
   "outputs": [],
   "source": [
    "from PIL import Image\n",
    "import pytesseract\n",
    "text = pytesseract.image_to_string(Image.open(\"img.png\"))\n",
    "text"
   ]
  },
  {
   "cell_type": "code",
   "execution_count": null,
   "metadata": {
    "collapsed": false,
    "deletable": true,
    "editable": true
   },
   "outputs": [],
   "source": [
    "import urllib\n",
    "import shutil\n",
    "import requests\n",
    "\n",
    "valid_pic_url = driver.find_element_by_id('imgVlid').get_attribute('src')\n",
    "response = requests.get(valid_pic_url, stream=True)\n",
    "with open('img.png', 'wb') as out_file:\n",
    "    shutil.copyfileobj(response.raw, out_file)"
   ]
  },
  {
   "cell_type": "code",
   "execution_count": 15,
   "metadata": {
    "collapsed": false,
    "deletable": true,
    "editable": true
   },
   "outputs": [
    {
     "data": {
      "text/plain": [
       "False"
      ]
     },
     "execution_count": 15,
     "metadata": {},
     "output_type": "execute_result"
    }
   ],
   "source": [
    "from PIL import Image\n",
    "import pytesseract\n",
    "import argparse\n",
    "import cv2\n",
    "import os\n",
    " \n",
    "image = cv2.imread(\"img.png\")\n",
    "# gray = cv2.cvtColor(image, cv2.COLOR_BGR2GRAY)\n",
    "gray = cv2.threshold(image, 0, 255, cv2.THRESH_BINARY | cv2.THRESH_OTSU)[1]\n",
    "# gray = cv2.medianBlur(gray, 3)\n",
    "filename = \"img.png\"\n",
    "cv2.imwrite(filename, gray)"
   ]
  },
  {
   "cell_type": "code",
   "execution_count": 6,
   "metadata": {
    "collapsed": false,
    "deletable": true,
    "editable": true
   },
   "outputs": [],
   "source": [
    "cv2.imshow('pic',image)\n"
   ]
  },
  {
   "cell_type": "code",
   "execution_count": null,
   "metadata": {
    "collapsed": true
   },
   "outputs": [],
   "source": []
  }
 ],
 "metadata": {
  "kernelspec": {
   "display_name": "Python 3",
   "language": "python",
   "name": "python3"
  },
  "language_info": {
   "codemirror_mode": {
    "name": "ipython",
    "version": 3
   },
   "file_extension": ".py",
   "mimetype": "text/x-python",
   "name": "python",
   "nbconvert_exporter": "python",
   "pygments_lexer": "ipython3",
   "version": "3.5.3"
  }
 },
 "nbformat": 4,
 "nbformat_minor": 2
}
